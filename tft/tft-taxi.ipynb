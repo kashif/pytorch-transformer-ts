{
 "cells": [
  {
   "cell_type": "code",
   "execution_count": null,
   "id": "8aa55868",
   "metadata": {},
   "outputs": [],
   "source": [
    "%matplotlib inline\n",
    "\n",
    "import multiprocessing\n",
    "import matplotlib.dates as mdates\n",
    "from matplotlib import pyplot as plt\n",
    "from itertools import islice\n",
    "\n",
    "import pandas as pd\n",
    "from sklearn.manifold import TSNE"
   ]
  },
  {
   "cell_type": "code",
   "execution_count": null,
   "id": "6a730716",
   "metadata": {},
   "outputs": [],
   "source": [
    "from gluonts.dataset.repository.datasets import get_dataset\n",
    "from gluonts.dataset.common import ListDataset\n",
    "from gluonts.evaluation import make_evaluation_predictions, Evaluator\n",
    "from gluonts.torch.distributions import NegativeBinomialOutput\n",
    "\n",
    "from pytorch_lightning.loggers import CSVLogger\n",
    "from datasets import load_dataset\n",
    "\n",
    "from estimator import TFTEstimator"
   ]
  },
  {
   "cell_type": "code",
   "execution_count": null,
   "id": "fc889c9f",
   "metadata": {},
   "outputs": [],
   "source": [
    "dataset = get_dataset(\"taxi_30min\")"
   ]
  },
  {
   "cell_type": "code",
   "execution_count": null,
   "id": "1717d0d2",
   "metadata": {},
   "outputs": [],
   "source": [
    "estimator = TFTEstimator(\n",
    "        freq=dataset.metadata.freq,\n",
    "        prediction_length=dataset.metadata.prediction_length,\n",
    "        context_length=dataset.metadata.prediction_length*6,\n",
    "        \n",
    "        scaling=True,\n",
    "        num_feat_static_cat=len(dataset.metadata.feat_static_cat),\n",
    "        cardinality=[int(cat_feat_info.cardinality) for cat_feat_info in dataset.metadata.feat_static_cat],\n",
    "       \n",
    "        distr_output=NegativeBinomialOutput(),\n",
    "        \n",
    "        batch_size=256,\n",
    "        num_batches_per_epoch=200,\n",
    "        trainer_kwargs=dict(gpus=\"1\", max_epochs=100, logger=CSVLogger(\".\", \"lightning_logs/\")),\n",
    "    )"
   ]
  },
  {
   "cell_type": "code",
   "execution_count": null,
   "id": "c77b420c",
   "metadata": {
    "scrolled": true
   },
   "outputs": [],
   "source": [
    "predictor = estimator.train(\n",
    "        training_data=dataset.train,\n",
    "        shuffle_buffer_length=1024,\n",
    "        num_workers=8,\n",
    "        cache_data=True,\n",
    "    )"
   ]
  },
  {
   "cell_type": "code",
   "execution_count": null,
   "id": "f8a362b6",
   "metadata": {},
   "outputs": [],
   "source": [
    "forecast_it, ts_it = make_evaluation_predictions(\n",
    "    dataset=dataset.test,\n",
    "    predictor=predictor,\n",
    ")"
   ]
  },
  {
   "cell_type": "code",
   "execution_count": null,
   "id": "5fdc12da",
   "metadata": {},
   "outputs": [],
   "source": [
    "forecasts = list(forecast_it)"
   ]
  },
  {
   "cell_type": "code",
   "execution_count": null,
   "id": "4b7d3409",
   "metadata": {},
   "outputs": [],
   "source": [
    "tss = list(ts_it)"
   ]
  },
  {
   "cell_type": "code",
   "execution_count": null,
   "id": "9b154bde",
   "metadata": {},
   "outputs": [],
   "source": [
    "# num_workers is limited to 10 if cpu has more cores\n",
    "num_workers = min(multiprocessing.cpu_count(), 10)\n",
    "\n",
    "evaluator = Evaluator(num_workers=num_workers)"
   ]
  },
  {
   "cell_type": "code",
   "execution_count": null,
   "id": "0fdec8a7",
   "metadata": {},
   "outputs": [],
   "source": [
    "agg_metrics, ts_metrics = evaluator(iter(tss), iter(forecasts))"
   ]
  },
  {
   "cell_type": "code",
   "execution_count": null,
   "id": "7f28f4d3",
   "metadata": {},
   "outputs": [],
   "source": [
    "agg_metrics"
   ]
  },
  {
   "cell_type": "code",
   "execution_count": null,
   "id": "cc3f804d",
   "metadata": {},
   "outputs": [],
   "source": [
    "plt.figure(figsize=(20, 15))\n",
    "date_formater = mdates.DateFormatter('%b, %d')\n",
    "plt.rcParams.update({'font.size': 15})\n",
    "\n",
    "for idx, (forecast, ts) in islice(enumerate(zip(forecasts, tss)), 9):\n",
    "    ax = plt.subplot(3, 3, idx+1)\n",
    "\n",
    "    plt.plot(ts[-4 * dataset.metadata.prediction_length:].to_timestamp(), label=\"target\", )\n",
    "    forecast.plot( color='g')\n",
    "    plt.xticks(rotation=60)\n",
    "    ax.xaxis.set_major_formatter(date_formater)\n",
    "    ax.set_title(forecast.item_id)\n",
    "\n",
    "plt.gcf().tight_layout()\n",
    "plt.legend()\n",
    "plt.show()"
   ]
  },
  {
   "cell_type": "code",
   "execution_count": null,
   "id": "6f03bfd2",
   "metadata": {},
   "outputs": [],
   "source": [
    "metrics = pd.read_csv(\"lightning_logs/version_86/metrics.csv\")"
   ]
  },
  {
   "cell_type": "code",
   "execution_count": null,
   "id": "8e76b769",
   "metadata": {},
   "outputs": [],
   "source": [
    "metrics"
   ]
  },
  {
   "cell_type": "code",
   "execution_count": null,
   "id": "ad490889",
   "metadata": {},
   "outputs": [],
   "source": [
    "ax = metrics.train_perplexity.dropna().plot(kind=\"line\")\n",
    "ax.set_xlabel(\"training steps\")\n",
    "ax.set_ylabel(\"perplexity\")"
   ]
  },
  {
   "cell_type": "code",
   "execution_count": null,
   "id": "f1185a0f",
   "metadata": {},
   "outputs": [],
   "source": [
    "ax = metrics.val_loss.dropna().plot()\n",
    "ax.set_xlabel(\"training steps\")\n",
    "ax.set_ylabel(\"val neg. log likelihood\")"
   ]
  },
  {
   "cell_type": "code",
   "execution_count": null,
   "id": "d887cb3b",
   "metadata": {},
   "outputs": [],
   "source": [
    "X = predictor.prediction_net.vq_vae.embed.cpu()"
   ]
  },
  {
   "cell_type": "code",
   "execution_count": null,
   "id": "ae16d4bd",
   "metadata": {},
   "outputs": [],
   "source": [
    "X_embedded = TSNE(n_components=2, learning_rate='auto', init='random').fit_transform(X)"
   ]
  },
  {
   "cell_type": "code",
   "execution_count": null,
   "id": "8feaef88",
   "metadata": {},
   "outputs": [],
   "source": [
    "plt.scatter(X_embedded[:,0], X_embedded[:,1], alpha=1.0)"
   ]
  }
 ],
 "metadata": {
  "kernelspec": {
   "display_name": "Python 3 (ipykernel)",
   "language": "python",
   "name": "python3"
  },
  "language_info": {
   "codemirror_mode": {
    "name": "ipython",
    "version": 3
   },
   "file_extension": ".py",
   "mimetype": "text/x-python",
   "name": "python",
   "nbconvert_exporter": "python",
   "pygments_lexer": "ipython3",
   "version": "3.10.13"
  }
 },
 "nbformat": 4,
 "nbformat_minor": 5
}
