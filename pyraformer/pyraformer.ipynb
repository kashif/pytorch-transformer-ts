{
 "cells": [
  {
   "cell_type": "markdown",
   "id": "0026d710-acd2-477e-a7d8-7248aeb6053b",
   "metadata": {
    "executionInfo": {
     "elapsed": 7,
     "status": "ok",
     "timestamp": 1650430437558,
     "user": {
      "displayName": "Hena Ghonia",
      "userId": "03246241722682988409"
     },
     "user_tz": 240
    },
    "id": "1XLYCBAswBhQ"
   },
   "source": [
    "#### _Model under development_"
   ]
  },
  {
   "cell_type": "code",
   "execution_count": null,
   "id": "8f1445c8-a6fc-41a0-9456-f33cdfe39816",
   "metadata": {},
   "outputs": [],
   "source": [
    "%matplotlib inline\n",
    "from matplotlib import pyplot as plt\n",
    "import matplotlib.dates as mdates\n",
    "\n",
    "from itertools import islice"
   ]
  },
  {
   "cell_type": "code",
   "execution_count": null,
   "id": "n0nOWRF-wFl2",
   "metadata": {
    "colab": {
     "base_uri": "https://localhost:8080/"
    },
    "executionInfo": {
     "elapsed": 2207,
     "status": "ok",
     "timestamp": 1650430444238,
     "user": {
      "displayName": "Hena Ghonia",
      "userId": "03246241722682988409"
     },
     "user_tz": 240
    },
    "id": "n0nOWRF-wFl2",
    "outputId": "22b11d98-cc25-4ba0-af98-320628468adc"
   },
   "outputs": [],
   "source": [
    "from gluonts.evaluation import make_evaluation_predictions, Evaluator\n",
    "from gluonts.dataset.repository.datasets import get_dataset\n",
    "\n",
    "from estimator import PyraformerEstimator"
   ]
  },
  {
   "cell_type": "code",
   "execution_count": null,
   "id": "Qzi9eE6q7x5y",
   "metadata": {
    "executionInfo": {
     "elapsed": 3,
     "status": "ok",
     "timestamp": 1650430444238,
     "user": {
      "displayName": "Hena Ghonia",
      "userId": "03246241722682988409"
     },
     "user_tz": 240
    },
    "id": "Qzi9eE6q7x5y"
   },
   "outputs": [],
   "source": [
    "dataset = get_dataset(\"electricity\")"
   ]
  },
  {
   "cell_type": "code",
   "execution_count": null,
   "id": "9a7c28da-a0fd-46b0-a0c0-31d5572601b3",
   "metadata": {
    "executionInfo": {
     "elapsed": 139,
     "status": "ok",
     "timestamp": 1650430475324,
     "user": {
      "displayName": "Hena Ghonia",
      "userId": "03246241722682988409"
     },
     "user_tz": 240
    },
    "id": "i7AV93A07sQa"
   },
   "outputs": [],
   "source": [
    "estimator = PyraformerEstimator(\n",
    "    freq=dataset.metadata.freq,\n",
    "    prediction_length=dataset.metadata.prediction_length,\n",
    "    num_feat_static_cat=1,\n",
    "    cardinality=[321],\n",
    "    single_step= True,\n",
    "    batch_size=1,\n",
    "    num_batches_per_epoch=100,\n",
    "    trainer_kwargs=dict(max_epochs=1, accelerator='gpu', devices=1\n",
    "))"
   ]
  },
  {
   "cell_type": "code",
   "execution_count": null,
   "id": "hXjDU6rhK9H_",
   "metadata": {
    "colab": {
     "base_uri": "https://localhost:8080/",
     "height": 1000
    },
    "executionInfo": {
     "elapsed": 766,
     "status": "error",
     "timestamp": 1650430476900,
     "user": {
      "displayName": "Hena Ghonia",
      "userId": "03246241722682988409"
     },
     "user_tz": 240
    },
    "id": "hXjDU6rhK9H_",
    "outputId": "086996d5-ccda-4fb4-8a64-861b8c732bab"
   },
   "outputs": [],
   "source": [
    "predictor = estimator.train(training_data=dataset.train,num_workers=2)"
   ]
  },
  {
   "cell_type": "code",
   "execution_count": null,
   "id": "d61f32ab",
   "metadata": {
    "id": "d61f32ab"
   },
   "outputs": [],
   "source": [
    "# plt.figure(figsize=(20, 15))\n",
    "# date_formater = mdates.DateFormatter('%b, %d')\n",
    "# plt.rcParams.update({'font.size': 15})\n",
    "\n",
    "# for idx, (forecast, ts) in islice(enumerate(zip(forecasts, tss)), 9):\n",
    "#     ax = plt.subplot(3, 3, idx+1)\n",
    "\n",
    "#     plt.plot(ts[-4 * dataset.metadata.prediction_length:], label=\"target\", )\n",
    "#     forecast.plot( color='g')\n",
    "#     plt.xticks(rotation=60)\n",
    "#     ax.xaxis.set_major_formatter(date_formater)\n",
    "\n",
    "# plt.gcf().tight_layout()\n",
    "# plt.legend()\n",
    "# plt.show()"
   ]
  },
  {
   "cell_type": "code",
   "execution_count": null,
   "id": "d494463f",
   "metadata": {
    "id": "d494463f"
   },
   "outputs": [],
   "source": [
    "# def plot_prob_forecasts(ts_entry, forecast_entry):\n",
    "#     plot_length = 70\n",
    "#     prediction_intervals = (50.0, 90.0)\n",
    "#     legend = [\"observations\", \"median prediction\"] + [f\"{k}% prediction interval\" for k in prediction_intervals][::-1]\n",
    "\n",
    "#     fig, ax = plt.subplots(1, 1, figsize=(10, 7))\n",
    "#     ts_entry[-plot_length:].plot(ax=ax)  # plot the time series\n",
    "#     forecast_entry.plot(prediction_intervals=prediction_intervals, color='g')\n",
    "#     plt.grid(which=\"both\")\n",
    "#     plt.legend(legend, loc=\"best\")\n",
    "#     plt.show()"
   ]
  },
  {
   "cell_type": "code",
   "execution_count": null,
   "id": "5256fde1",
   "metadata": {
    "id": "5256fde1"
   },
   "outputs": [],
   "source": [
    "# index = 123\n",
    "# plot_prob_forecasts(tss[index], forecasts[index])"
   ]
  }
 ],
 "metadata": {
  "accelerator": "GPU",
  "colab": {
   "collapsed_sections": [],
   "name": "pyraformer.ipynb",
   "provenance": []
  },
  "kernelspec": {
   "display_name": "Python 3 (ipykernel)",
   "language": "python",
   "name": "python3"
  },
  "language_info": {
   "codemirror_mode": {
    "name": "ipython",
    "version": 3
   },
   "file_extension": ".py",
   "mimetype": "text/x-python",
   "name": "python",
   "nbconvert_exporter": "python",
   "pygments_lexer": "ipython3",
   "version": "3.10.13"
  }
 },
 "nbformat": 4,
 "nbformat_minor": 5
}
